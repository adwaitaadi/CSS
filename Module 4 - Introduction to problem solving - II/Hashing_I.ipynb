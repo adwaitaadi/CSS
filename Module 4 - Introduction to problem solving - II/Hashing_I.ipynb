{
  "nbformat": 4,
  "nbformat_minor": 0,
  "metadata": {
    "colab": {
      "provenance": [],
      "authorship_tag": "ABX9TyOjHvAxwh5In4XeHNj+j1eF",
      "include_colab_link": true
    },
    "kernelspec": {
      "name": "python3",
      "display_name": "Python 3"
    },
    "language_info": {
      "name": "python"
    }
  },
  "cells": [
    {
      "cell_type": "markdown",
      "metadata": {
        "id": "view-in-github",
        "colab_type": "text"
      },
      "source": [
        "<a href=\"https://colab.research.google.com/github/adwaitaadi/CSS/blob/main/Module%204%20-%20Introduction%20to%20problem%20solving%20-%20II/Hashing_I.ipynb\" target=\"_parent\"><img src=\"https://colab.research.google.com/assets/colab-badge.svg\" alt=\"Open In Colab\"/></a>"
      ]
    },
    {
      "cell_type": "markdown",
      "source": [],
      "metadata": {
        "id": "J29_Wx-Wrh-b"
      }
    },
    {
      "cell_type": "code",
      "execution_count": null,
      "metadata": {
        "id": "o1GXXXOYrd4Q"
      },
      "outputs": [],
      "source": [
        "Given an array of N elements and Q queries, find the freuency of each query in the given array."
      ]
    },
    {
      "cell_type": "code",
      "source": [
        "A=[2,6,3,8,2,8,2,3,8,10,6]\n",
        "\n",
        "dictio={}\n",
        "for i in range(len(A)):\n",
        "  if A[i] in dictio:\n",
        "    dictio[A[i]]+=1\n",
        "  else:\n",
        "    dictio[A[i]]=1\n",
        "\n",
        "print(dictio)"
      ],
      "metadata": {
        "colab": {
          "base_uri": "https://localhost:8080/"
        },
        "id": "U9W1tUcUrvt2",
        "outputId": "91e52830-91e0-476e-a993-6228ea3b4ed2"
      },
      "execution_count": 7,
      "outputs": [
        {
          "output_type": "stream",
          "name": "stdout",
          "text": [
            "{2: 3, 6: 2, 3: 2, 8: 3, 10: 1}\n"
          ]
        }
      ]
    },
    {
      "cell_type": "markdown",
      "source": [
        "Find first non repeating element of the given array.\n",
        "First element from start which is unique"
      ],
      "metadata": {
        "id": "UnumkvInsMn5"
      }
    },
    {
      "cell_type": "code",
      "source": [
        "A = [1,2,3,1,2,5]\n",
        "ans = {}\n",
        "for i in range(len(A)):\n",
        "  if A[i] in ans :\n",
        "    ans[A[i]]+=1\n",
        "  else:\n",
        "    ans[A[i]]=1\n",
        "\n",
        "for i in range(len(A)):\n",
        "  if ans[A[i]]==1:\n",
        "    print(A[i])\n",
        "    break\n",
        ""
      ],
      "metadata": {
        "colab": {
          "base_uri": "https://localhost:8080/"
        },
        "id": "Lo9-g4zWtK2f",
        "outputId": "a5c426d7-d1ee-42ae-d4b7-346c595e5674"
      },
      "execution_count": 9,
      "outputs": [
        {
          "output_type": "stream",
          "name": "stdout",
          "text": [
            "3\n"
          ]
        }
      ]
    },
    {
      "cell_type": "markdown",
      "source": [
        "Insert the given elements in a hashset (set/Dictionary)"
      ],
      "metadata": {
        "id": "CpUWzjiWtnFA"
      }
    },
    {
      "cell_type": "code",
      "source": [
        "A=[6,3,7,3,8,6,9]\n",
        "ans = set()\n",
        "for i in range(len(A)):\n",
        "  if A[i] not in ans :\n",
        "    ans.add(A[i])\n",
        "print(ans)\n",
        "\n",
        "# another approach\n",
        "ans1=set()\n",
        "ans1.update(A)\n",
        "print(ans1)"
      ],
      "metadata": {
        "colab": {
          "base_uri": "https://localhost:8080/"
        },
        "id": "cJ-vqIzKuHek",
        "outputId": "89fa0f3a-d7ed-45dd-b10b-dc9071119b19"
      },
      "execution_count": 15,
      "outputs": [
        {
          "output_type": "stream",
          "name": "stdout",
          "text": [
            "{3, 6, 7, 8, 9}\n",
            "{3, 6, 7, 8, 9}\n"
          ]
        }
      ]
    },
    {
      "cell_type": "markdown",
      "source": [
        "Given a array of elements, check if there exists a subarray whose sum is 0"
      ],
      "metadata": {
        "id": "6LrseII4vmIl"
      }
    },
    {
      "cell_type": "code",
      "source": [
        "A = [2,2,1,-3,4,3,1,-2,-3,2]\n",
        "\n",
        "N= len(A)\n",
        "\n",
        "#Creating Prefix sum\n",
        "\n",
        "pf=[0]*len(A)\n",
        "pf[0]=A[0]\n",
        "for i in range(1,N):\n",
        "  pf[i]=pf[i-1]+A[i]\n",
        "print('prefix sum array is')\n",
        "print(pf)\n",
        "\n",
        "for i in pf:\n",
        "  if A.count(i)>1 or i==0 :\n",
        "    print(\"Subarray having zero sum is present\")\n",
        "    break\n"
      ],
      "metadata": {
        "colab": {
          "base_uri": "https://localhost:8080/"
        },
        "id": "DhxpwR3Tu4H4",
        "outputId": "28c7ba2b-7876-4416-a81d-cd8e8b571bc3"
      },
      "execution_count": 19,
      "outputs": [
        {
          "output_type": "stream",
          "name": "stdout",
          "text": [
            "prefix sum array is\n",
            "[2, 4, 5, 2, 6, 9, 10, 8, 5, 7]\n",
            "Subarray having zero sum is present\n"
          ]
        }
      ]
    }
  ]
}